{
 "cells": [
  {
   "cell_type": "markdown",
   "metadata": {},
   "source": [
    "### Data Augmentation\n",
    "\n",
    "Use this notebook to increase the size of your dataset by flipping images."
   ]
  },
  {
   "cell_type": "code",
   "execution_count": 1,
   "metadata": {
    "collapsed": true
   },
   "outputs": [],
   "source": [
    "import numpy as np\n",
    "from scipy import ndimage, misc\n",
    "import matplotlib.pyplot as plt\n",
    "import os"
   ]
  },
  {
   "cell_type": "code",
   "execution_count": 2,
   "metadata": {
    "collapsed": true
   },
   "outputs": [],
   "source": [
    "img = misc.imread(\"../data/train_combined/images/0_run6_cam1_00000_data_pack2.jpeg\")"
   ]
  },
  {
   "cell_type": "code",
   "execution_count": 3,
   "metadata": {
    "collapsed": true
   },
   "outputs": [],
   "source": [
    "base_path = \"../data/train_combined/\""
   ]
  },
  {
   "cell_type": "code",
   "execution_count": 4,
   "metadata": {
    "collapsed": true
   },
   "outputs": [],
   "source": [
    "base_path_images = os.path.join(base_path, \"images/\")\n",
    "image_files = os.listdir(base_path_images)\n",
    "\n",
    "base_path_masks =  os.path.join(base_path, \"masks/\")\n",
    "mask_files = os.listdir(base_path_masks)"
   ]
  },
  {
   "cell_type": "code",
   "execution_count": 5,
   "metadata": {
    "collapsed": true
   },
   "outputs": [],
   "source": [
    "def flip_img(base_path, img_path):\n",
    "    img = misc.imread(os.path.join(base_path, img_path))\n",
    "    flipped_img = np.fliplr(img)\n",
    "    flipped_img_path = \"flipped_\" + img_path\n",
    "    misc.imsave(os.path.join(base_path, flipped_img_path), flipped_img)"
   ]
  },
  {
   "cell_type": "code",
   "execution_count": 6,
   "metadata": {},
   "outputs": [
    {
     "name": "stdout",
     "output_type": "stream",
     "text": [
      "Augmenting dataset of size 4131 with flipped images\n",
      "done.\n",
      "Augmenting dataset with flipped masks\n",
      "done.\n"
     ]
    }
   ],
   "source": [
    "print(\"Augmenting dataset of size {} with flipped images\".format(len(image_files)))\n",
    "for img_path in image_files:\n",
    "    flip_img(base_path_images, img_path)\n",
    "print(\"done.\")\n",
    "print(\"Augmenting dataset with flipped masks\")\n",
    "for mask_path in mask_files:\n",
    "    flip_img(base_path_masks, mask_path)\n",
    "print(\"done.\")"
   ]
  },
  {
   "cell_type": "code",
   "execution_count": null,
   "metadata": {
    "collapsed": true
   },
   "outputs": [],
   "source": []
  }
 ],
 "metadata": {
  "kernelspec": {
   "display_name": "Python 3",
   "language": "python",
   "name": "python3"
  },
  "language_info": {
   "codemirror_mode": {
    "name": "ipython",
    "version": 3
   },
   "file_extension": ".py",
   "mimetype": "text/x-python",
   "name": "python",
   "nbconvert_exporter": "python",
   "pygments_lexer": "ipython3",
   "version": "3.6.1"
  },
  "widgets": {
   "state": {},
   "version": "1.1.2"
  }
 },
 "nbformat": 4,
 "nbformat_minor": 2
}
